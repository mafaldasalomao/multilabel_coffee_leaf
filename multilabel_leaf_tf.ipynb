{
  "cells": [
    {
      "cell_type": "markdown",
      "metadata": {
        "id": "view-in-github",
        "colab_type": "text"
      },
      "source": [
        "<a href=\"https://colab.research.google.com/github/mafaldasalomao/multilabel_coffee_leaf/blob/main/multilabel_leaf_tf.ipynb\" target=\"_parent\"><img src=\"https://colab.research.google.com/assets/colab-badge.svg\" alt=\"Open In Colab\"/></a>"
      ]
    },
    {
      "cell_type": "code",
      "execution_count": 6,
      "metadata": {
        "id": "36c4e51a"
      },
      "outputs": [],
      "source": [
        "#Import suppporting libraries\n",
        "import tarfile\n",
        "import urllib.request as urllib2\n",
        "import os\n",
        "import cv2\n",
        "from os import listdir\n",
        "from os.path import isfile, join\n",
        "import re\n",
        "#Import deep learning libraries\n",
        "import cv2\n",
        "import os\n",
        "import pandas as pd\n",
        "import numpy as np\n",
        "import tensorflow as tf\n",
        "import matplotlib.pyplot as plt\n",
        "import tensorflow.keras as keras\n",
        "from tensorflow.keras.models import Sequential\n",
        "from tensorflow.keras.layers import Dense, Dropout, Flatten, Conv2D, MaxPooling2D, BatchNormalization\n",
        "from tensorflow.keras.preprocessing import image\n",
        "from sklearn.model_selection import train_test_split\n",
        "from sklearn.model_selection import KFold\n",
        "import tqdm as tqdm\n",
        "import tensorflow_hub as hub\n",
        "\n",
        "#Import data analytics libraries\n",
        "import matplotlib.pyplot as plt\n",
        "import matplotlib.image as img\n",
        "import numpy as np\n",
        "import scipy.io\n",
        "import pandas as pd\n",
        "import seaborn as sns\n",
        "#Import image visualization libraries\n",
        "from PIL import *\n",
        "from PIL import ImageFile\n",
        "from PIL import Image\n",
        "#System settings\n",
        "ImageFile.LOAD_TRUNCATED_IMAGES = True\n",
        "os.environ['WANDB_CONSOLE'] = 'off'\n",
        "#Coloring for print outputs\n",
        "class color:\n",
        "   RED = '\\033[91m'\n",
        "   BOLD = '\\033[1m'\n",
        "   END = '\\033[0m'"
      ],
      "id": "36c4e51a"
    },
    {
      "cell_type": "code",
      "source": [
        "!nvidia-smi"
      ],
      "metadata": {
        "id": "yLT4tb3jWYEO"
      },
      "id": "yLT4tb3jWYEO",
      "execution_count": null,
      "outputs": []
    },
    {
      "cell_type": "code",
      "execution_count": null,
      "metadata": {
        "colab": {
          "base_uri": "https://localhost:8080/"
        },
        "id": "RPQUiGWYUBSB",
        "outputId": "0782691b-a700-41b6-8a91-98586615520d"
      },
      "outputs": [
        {
          "output_type": "stream",
          "name": "stdout",
          "text": [
            "Mounted at /content/drive\n"
          ]
        }
      ],
      "source": [
        "from google.colab import drive\n",
        "drive.mount('/content/drive')"
      ],
      "id": "RPQUiGWYUBSB"
    },
    {
      "cell_type": "code",
      "execution_count": null,
      "metadata": {
        "id": "Ly0UuR9UUegJ"
      },
      "outputs": [],
      "source": [
        "!cp -r  /content/drive/MyDrive/Pesquisas/dataset_original/ /content/"
      ],
      "id": "Ly0UuR9UUegJ"
    },
    {
      "cell_type": "code",
      "execution_count": null,
      "metadata": {
        "id": "053f4152"
      },
      "outputs": [],
      "source": [
        "path='/content/dataset_original'\n"
      ],
      "id": "053f4152"
    },
    {
      "cell_type": "code",
      "execution_count": null,
      "metadata": {
        "id": "vGSHPci-FQRW"
      },
      "outputs": [],
      "source": [
        "def criar_diretorio(caminho):\n",
        "  if not os.path.exists(caminho):\n",
        "    os.makedirs(caminho)"
      ],
      "id": "vGSHPci-FQRW"
    },
    {
      "cell_type": "code",
      "execution_count": null,
      "metadata": {
        "id": "48b100ac"
      },
      "outputs": [],
      "source": [
        "criar_diretorio(\"/content/dataset\")"
      ],
      "id": "48b100ac"
    },
    {
      "cell_type": "code",
      "execution_count": null,
      "metadata": {
        "id": "dmnSUSnASW6I"
      },
      "outputs": [],
      "source": [
        "IMG_SIZE = 224 # Specify height and width of image to match the input format of the model\n",
        "CHANNELS = 1"
      ],
      "id": "dmnSUSnASW6I"
    },
    {
      "cell_type": "code",
      "execution_count": null,
      "metadata": {
        "id": "zDCzD3UPSiXT"
      },
      "outputs": [],
      "source": [
        "def plot_curves(history, title):\n",
        "    fig_1 = plt.figure(figsize=(5, 3))\n",
        "    epochs = range(1, len(history.history['loss'])+1)\n",
        "    plt.plot(epochs, history.history['loss'], label=\"Train loss\")\n",
        "    plt.plot(epochs, history.history['val_loss'], label=\"Test Loss\")\n",
        "    plt.title(\"Training Loss Curve: \"+title)\n",
        "    plt.ylabel(\"Loss\")\n",
        "    plt.xlabel(\"Epochs\")\n",
        "    plt.legend();\n",
        "    #fig_1.savefig(path_imgs_train+'/loss_'+title+'.png')\n",
        "    #plt.close(fig_1)\n",
        "    \n",
        "    fig_2 = plt.figure(figsize=(5, 3))\n",
        "    epochs = range(1, len(history.history['accuracy'])+1)\n",
        "    plt.plot(epochs, history.history['accuracy'], label=\"Train Acc\")\n",
        "    plt.plot(epochs, history.history['val_accuracy'], label=\"Test Acc\")\n",
        "    plt.title(\"Training Accuracy Curve: \"+title)\n",
        "    plt.ylabel(\"Accuracy\")\n",
        "    plt.xlabel(\"Epochs\")\n",
        "    plt.legend();\n",
        "    #fig_2.savefig(path_imgs_train+'/acc_'+title+'.png')\n",
        "    #plt.close(fig_2)"
      ],
      "id": "zDCzD3UPSiXT"
    },
    {
      "cell_type": "code",
      "source": [
        "cerscospora = '/content/dataset_original/dataset_original/Cerscospora'\n",
        "healthy = '/content/dataset_original/dataset_original/Healthy'\n",
        "leaf_rust = '/content/dataset_original/dataset_original/Leaf rust'\n",
        "miner = '/content/dataset_original/dataset_original/Miner'\n",
        "phoma = '/content/dataset_original/dataset_original/Phoma'\n",
        "folders = [healthy, leaf_rust, miner, cerscospora, phoma]\n",
        "folders"
      ],
      "metadata": {
        "colab": {
          "base_uri": "https://localhost:8080/"
        },
        "id": "IQtka9gxLqM_",
        "outputId": "b34e6371-6448-419f-fbc1-b918bc354e39"
      },
      "id": "IQtka9gxLqM_",
      "execution_count": 3,
      "outputs": [
        {
          "output_type": "execute_result",
          "data": {
            "text/plain": [
              "['/content/dataset_original/dataset_original/Healthy',\n",
              " '/content/dataset_original/dataset_original/Leaf rust',\n",
              " '/content/dataset_original/dataset_original/Miner',\n",
              " '/content/dataset_original/dataset_original/Cerscospora',\n",
              " '/content/dataset_original/dataset_original/Phoma']"
            ]
          },
          "metadata": {},
          "execution_count": 3
        }
      ]
    },
    {
      "cell_type": "code",
      "source": [
        "def create_mydataset():\n",
        "  X_train, y_train = [], []\n",
        "  for idx, foldername in enumerate(folders):\n",
        "    for filename in os.listdir(foldername):\n",
        "      out = '/content/dataset/{}.png'.format(filename.split('.')[0])\n",
        "      image = cv2.imread(foldername+'/'+filename)\n",
        "      cv2.imwrite(out,cv2.cvtColor(image, cv2.COLOR_BGR2GRAY))\n",
        "      img = tf.keras.utils.load_img(out, target_size = (224, 224, 1),color_mode=\"grayscale\")\n",
        "      img = tf.keras.utils.img_to_array(img)\n",
        "      img= img/255.\n",
        "      X_train.append(img)\n",
        "      vec = np.zeros(4)\n",
        "      vec[idx] = 1\n",
        "      y_train.append(vec)\n",
        "  X = np.array(X_train)\n",
        "  y = np.array(y_train)\n",
        "  return X, y"
      ],
      "metadata": {
        "id": "FOBQZDl5MQ5l"
      },
      "id": "FOBQZDl5MQ5l",
      "execution_count": null,
      "outputs": []
    },
    {
      "cell_type": "code",
      "source": [
        "'''\n",
        "def create_mydataset():\n",
        "    X_train, y_train = [], []\n",
        "    for filename in os.listdir(healthy):\n",
        "      out = '/content/dataset/{}.png'.format(filename.split('.')[0])\n",
        "      image = cv2.imread(healthy+'/'+filename)\n",
        "      cv2.imwrite(out,cv2.cvtColor(image, cv2.COLOR_BGR2GRAY))\n",
        "      img = tf.keras.utils.load_img(out, target_size = (224, 224, 1),color_mode=\"grayscale\")\n",
        "      img = tf.keras.utils.img_to_array(img)\n",
        "      img= img/255.\n",
        "      X_train.append(img)\n",
        "      y_train.append([1, 0, 0, 0, 0])\n",
        "    for filename in os.listdir(leaf_rust):\n",
        "      out = '/content/dataset/{}.png'.format(filename.split('.')[0])\n",
        "      image = cv2.imread(leaf_rust+'/'+filename)\n",
        "      cv2.imwrite(out,cv2.cvtColor(image, cv2.COLOR_BGR2GRAY))\n",
        "      img = tf.keras.utils.load_img(out, target_size = (224, 224, 1),color_mode=\"grayscale\")\n",
        "      img = tf.keras.utils.img_to_array(img)\n",
        "      img= img/255.\n",
        "      X_train.append(img)\n",
        "      y_train.append([0, 1, 0, 0, 0])\n",
        "    for filename in os.listdir(miner):\n",
        "      out = '/content/dataset/{}.png'.format(filename.split('.')[0])\n",
        "      image = cv2.imread(miner+'/'+filename)\n",
        "      cv2.imwrite(out,cv2.cvtColor(image, cv2.COLOR_BGR2GRAY))\n",
        "      img = tf.keras.utils.load_img(out, target_size = (224, 224, 1),color_mode=\"grayscale\")\n",
        "      img = tf.keras.utils.img_to_array(img)\n",
        "      img= img/255.\n",
        "      X_train.append(img)\n",
        "      y_train.append([0, 0, 1, 0, 0])\n",
        "    for filename in os.listdir(cerscospora):\n",
        "      out = '/content/dataset/{}.png'.format(filename.split('.')[0])\n",
        "      image = cv2.imread(cerscospora+'/'+filename)\n",
        "      cv2.imwrite(out,cv2.cvtColor(image, cv2.COLOR_BGR2GRAY))\n",
        "      img = tf.keras.utils.load_img(out, target_size = (224, 224, 1),color_mode=\"grayscale\")\n",
        "      img = tf.keras.utils.img_to_array(img)\n",
        "      img= img/255.\n",
        "      X_train.append(img)\n",
        "      y_train.append([0, 0, 0, 1, 0])\n",
        "    for filename in os.listdir(phoma):\n",
        "      out = '/content/dataset/{}.png'.format(filename.split('.')[0])\n",
        "      image = cv2.imread(phoma+'/'+filename)\n",
        "      cv2.imwrite(out,cv2.cvtColor(image, cv2.COLOR_BGR2GRAY))\n",
        "      img = tf.keras.utils.load_img(out, target_size = (224, 224, 1),color_mode=\"grayscale\")\n",
        "      img = tf.keras.utils.img_to_array(img)\n",
        "      img= img/255.\n",
        "      X_train.append(img)\n",
        "      y_train.append([0, 0, 0, 0, 1])\n",
        "    X = np.array(X_train)\n",
        "    y = np.array(y_train)\n",
        "    return X, y\n",
        "    '''"
      ],
      "metadata": {
        "id": "OiqluKGIP4j7"
      },
      "id": "OiqluKGIP4j7",
      "execution_count": null,
      "outputs": []
    },
    {
      "cell_type": "code",
      "execution_count": null,
      "metadata": {
        "id": "P2wfiDK9Sobs"
      },
      "outputs": [],
      "source": [
        "#X, y = create_dataset_aug()\n",
        "X, y = create_mydataset()\n",
        "#((1225, 224, 224, 3), (1225, 5))\n",
        "num_folds=5\n",
        "# Define the K-fold Cross Validator\n",
        "#kfold = KFold(n_splits=num_folds, shuffle=True)\n",
        "X_train, X_test, y_train, y_test = train_test_split(X, y, random_state=20, test_size=0.2, shuffle=True)\n",
        "del X\n",
        "del y\n"
      ],
      "id": "P2wfiDK9Sobs"
    },
    {
      "cell_type": "code",
      "source": [
        "X_train.shape, y_train.shape"
      ],
      "metadata": {
        "colab": {
          "base_uri": "https://localhost:8080/"
        },
        "id": "G0yzrfxTUYME",
        "outputId": "4ea5148c-ff6b-4033-9bc7-bcb875b49d9a"
      },
      "id": "G0yzrfxTUYME",
      "execution_count": null,
      "outputs": [
        {
          "output_type": "execute_result",
          "data": {
            "text/plain": [
              "((16, 224, 224, 1), (16, 4))"
            ]
          },
          "metadata": {},
          "execution_count": 33
        }
      ]
    },
    {
      "cell_type": "code",
      "source": [
        "def residual_block(inputs):\n",
        "  residual = tf.keras.layers.Conv2D(filters=64, kernel_size=3, strides=1)(inputs)\n",
        "  residual = tf.keras.layers.BatchNormalization()(residual)\n",
        "  residual = tf.keras.layers.ReLU()(residual)\n",
        "  #residual = tf.keras.layers.MaxPool2D(4)(residual)\n",
        "  residual = tf.keras.layers.Conv2D(filters=128, kernel_size=3, strides=1)(residual)\n",
        "  residual = tf.keras.layers.BatchNormalization()(residual)\n",
        "  residual = tf.keras.layers.ReLU()(residual)\n",
        "  #residual = tf.keras.layers.MaxPool2D(4)(residual)\n",
        "\n",
        "  residual = tf.keras.layers.Flatten()(residual) # ------------------------------------------------------------ COMENTA AQUI\n",
        "  #residual = tf.keras.layers.Dense(128, activation='relu')(residual)\n",
        "  residual = tf.keras.layers.Dense(64, activation='relu')(residual)\n",
        "  residual = tf.keras.layers.Dense(32, activation='relu')(residual)\n",
        "  return residual\n",
        "def Model_3():\n",
        "  inputs = tf.keras.layers.Input(shape=(224, 224, 1))\n",
        "  x = tf.keras.layers.Conv2D(filters=8, kernel_size=3, strides=1)(inputs)\n",
        "  x = tf.keras.layers.BatchNormalization()(x)\n",
        "  x = tf.keras.layers.ReLU()(x)\n",
        "  x = tf.keras.layers.MaxPool2D(4)(x)\n",
        "\n",
        "  x = tf.keras.layers.Conv2D(filters=16, kernel_size=3, strides=1)(x)\n",
        "  x = tf.keras.layers.BatchNormalization()(x)\n",
        "  x = tf.keras.layers.ReLU()(x)\n",
        "  x = tf.keras.layers.MaxPool2D(4)(x)\n",
        "\n",
        "  residual = residual_block(x)\n",
        "  #residual = residual_block(residual)\n",
        "\n",
        "  #x = tf.keras.layers.Flatten()(residual)\n",
        "  x = tf.keras.layers.Dense(16, activation='relu')(residual)\n",
        "  x = tf.keras.layers.Dense(8, activation='relu')(x)\n",
        "  x = tf.keras.layers.Dense(5, activation='sigmoid')(x)\n",
        "\n",
        "  #x = tf.keras.layers.add([x, residual]) #------------- bloco residual nas camadas densas\n",
        "  model = tf.keras.Model(inputs=inputs, outputs=x)\n",
        "\n",
        "  return model"
      ],
      "metadata": {
        "id": "XdfNxrKZtqOE"
      },
      "id": "XdfNxrKZtqOE",
      "execution_count": null,
      "outputs": []
    },
    {
      "cell_type": "code",
      "source": [
        "model_all_0 = Model_3()"
      ],
      "metadata": {
        "id": "xWZnEzRVtyzb"
      },
      "id": "xWZnEzRVtyzb",
      "execution_count": null,
      "outputs": []
    },
    {
      "cell_type": "code",
      "source": [
        "N_LABELS = 5\n",
        "EPOCHS = 30\n",
        "LR = 1e-4\n",
        "batch_size = 32\n",
        "# Compile the model\n",
        "\n",
        "model_all_0.compile(\n",
        "  optimizer=tf.keras.optimizers.Adam(learning_rate=LR),\n",
        "  loss='binary_crossentropy',\n",
        "  metrics=['accuracy'])\n",
        "\n",
        "history = model_all_0.fit(X_train, y_train,\n",
        "            batch_size=batch_size,\n",
        "            epochs=EPOCHS,\n",
        "            validation_data=(X_test, y_test))"
      ],
      "metadata": {
        "id": "MT4REgT-LrPM"
      },
      "id": "MT4REgT-LrPM",
      "execution_count": null,
      "outputs": []
    },
    {
      "cell_type": "code",
      "source": [
        "del X_train\n",
        "del y_train"
      ],
      "metadata": {
        "id": "tY95GdIwu38N"
      },
      "id": "tY95GdIwu38N",
      "execution_count": null,
      "outputs": []
    },
    {
      "cell_type": "code",
      "source": [
        "plot_curves(history, \"teste\")"
      ],
      "metadata": {
        "colab": {
          "base_uri": "https://localhost:8080/",
          "height": 465
        },
        "id": "2l9212fGyWzC",
        "outputId": "8a31261f-2fc5-425e-b53c-44009b1cc201"
      },
      "id": "2l9212fGyWzC",
      "execution_count": null,
      "outputs": [
        {
          "output_type": "display_data",
          "data": {
            "text/plain": [
              "<Figure size 360x216 with 1 Axes>"
            ],
            "image/png": "[encoded data removed]"
          },
          "metadata": {
            "needs_background": "light"
          }
        },
        {
          "output_type": "display_data",
          "data": {
            "text/plain": [
              "<Figure size 360x216 with 1 Axes>"
            ],
            "image/png": "[encoded data removed]"
          },
          "metadata": {
            "needs_background": "light"
          }
        }
      ]
    },
    {
      "cell_type": "code",
      "source": [
        "## teste\n",
        "\n",
        "import matplotlib.pyplot as plt\n",
        "import seaborn as sns\n",
        "from sklearn.metrics import confusion_matrix, accuracy_score\n",
        "\n",
        "def plot_results(y_test, preds):\n",
        "  miner_list_preds = []\n",
        "  cerscospora_list_preds = []\n",
        "  Healthy_preds = []\n",
        "  leaf_rust_preds = []\n",
        "  phoma_list_preds = []\n",
        "  miner_list= []\n",
        "  cerscospora_list = []\n",
        "  Healthy_list = []\n",
        "  leaf_rust_list = []\n",
        "  phoma_list = []\n",
        "  for i in range(len(preds)):\n",
        "    Healthy_preds.append(preds[i][0])\n",
        "    leaf_rust_preds.append(preds[i][1])\n",
        "    miner_list_preds.append(preds[i][2])\n",
        "    cerscospora_list_preds.append(preds[i][3])\n",
        "    phoma_list_preds.append(preds[i][4])\n",
        "    Healthy_list.append(y_test[i][0])\n",
        "    leaf_rust_list.append(y_test[i][1])\n",
        "    miner_list.append(y_test[i][2])\n",
        "    cerscospora_list.append(y_test[i][3])\n",
        "    phoma_list.append(y_test[i][4])\n",
        "  acc_aline = accuracy_score(Healthy_list, Healthy_preds)\n",
        "  print('The accuracy for Healthy: ', acc_aline)\n",
        "  acc_bline = accuracy_score(leaf_rust_list, leaf_rust_preds)\n",
        "  print('The accuracy for leaf_rust: ', acc_bline)\n",
        "  acc_effusion = accuracy_score(miner_list, miner_list_preds)\n",
        "  print('The accuracy for miner: ', acc_effusion)\n",
        "  acc_consolid = accuracy_score(cerscospora_list, cerscospora_list_preds)\n",
        "  print('The accuracy for cerscospora: ', acc_consolid)\n",
        "  acc_pli = accuracy_score(phoma_list, phoma_list_preds)\n",
        "  print('The accuracy for phoma: ', acc_pli)\n",
        "  \n",
        "  # Plot confusion matrix for A-Line\n",
        "  matriz_aline = confusion_matrix(Healthy_list, Healthy_preds)\n",
        "  ax1 = plt.axes()\n",
        "  sns.heatmap(matriz_aline, annot=True, fmt='d', cmap='Blues', xticklabels=['Negative', 'Positive'], yticklabels=['Negative', 'Positive'])\n",
        "  ax1.set_title('Healthy')\n",
        "  plt.xlabel('Prediction')\n",
        "  plt.ylabel('Ground truth')\n",
        "  plt.show()\n",
        "  \n",
        "  # \n",
        "  # Plot confusion matrix for B-Line\n",
        "  matriz_bline = confusion_matrix(leaf_rust_list, leaf_rust_preds)\n",
        "  ax2 = plt.axes()\n",
        "  sns.heatmap(matriz_bline, annot=True, fmt='d', cmap='Blues', xticklabels=['Negative', 'Positive'], yticklabels=['Negative', 'Positive'])\n",
        "  ax2.set_title('leaf_rust')\n",
        "  plt.xlabel('Prediction')\n",
        "  plt.ylabel('Ground truth')\n",
        "  plt.show()\n",
        "  \n",
        "  # Plot confusion matrix for Effusion\n",
        "  matriz_effusion = confusion_matrix(miner_list, miner_list_preds)\n",
        "  ax3 = plt.axes()\n",
        "  sns.heatmap(matriz_effusion, annot=True, fmt='d', cmap='Blues', xticklabels=['Negative', 'Positive'], yticklabels=['Negative', 'Positive'])\n",
        "  ax3.set_title('Miner')\n",
        "  plt.xlabel('Prediction')\n",
        "  plt.ylabel('Ground truth')\n",
        "  plt.show()\n",
        "  \n",
        "  # Plot confusion matrix for Consolidations\n",
        "  matriz_consolidations = confusion_matrix(cerscospora_list, cerscospora_list_preds)\n",
        "  ax4 = plt.axes()\n",
        "  sns.heatmap(matriz_consolidations, annot=True, fmt='d', cmap='Blues', xticklabels=['Negative', 'Positive'], yticklabels=['Negative', 'Positive'])\n",
        "  ax4.set_title('cerscospora')\n",
        "  plt.xlabel('Prediction')\n",
        "  plt.ylabel('Ground truth')\n",
        "  plt.show()\n",
        "  \n",
        "  # Plot confusion matrix for Pleural Irregularities\n",
        "  matriz_pli = confusion_matrix(phoma_list, phoma_list_preds)\n",
        "  ax5 = plt.axes()\n",
        "  sns.heatmap(matriz_pli, annot=True, fmt='d', cmap='Blues', xticklabels=['Negative', 'Positive'], yticklabels=['Negative', 'Positive'])\n",
        "  ax5.set_title('phoma')\n",
        "  plt.xlabel('Prediction')\n",
        "  plt.ylabel('Ground truth')\n",
        "  plt.show()\n",
        "  \n",
        "\n",
        "\n",
        "\n",
        "# teste meio grandeplot_curves(history, 'teste')"
      ],
      "metadata": {
        "id": "ijXpPoihvIIk"
      },
      "id": "ijXpPoihvIIk",
      "execution_count": null,
      "outputs": []
    },
    {
      "cell_type": "code",
      "source": [
        "import seaborn as sns\n",
        "from sklearn.metrics import confusion_matrix, accuracy_score\n",
        "preds = model_all_0.predict(X_test)\n",
        "preds = np.array(preds> 0.5) #limiar\n",
        "preds"
      ],
      "metadata": {
        "id": "pkMunXT4nIPl",
        "colab": {
          "base_uri": "https://localhost:8080/"
        },
        "outputId": "90381bbd-cd71-4753-d6b0-19ff78ccab82"
      },
      "id": "pkMunXT4nIPl",
      "execution_count": null,
      "outputs": [
        {
          "output_type": "stream",
          "name": "stdout",
          "text": [
            "109/109 [==============================] - 1s 6ms/step\n"
          ]
        },
        {
          "output_type": "execute_result",
          "data": {
            "text/plain": [
              "array([[False,  True, False, False, False],\n",
              "       [False, False,  True, False, False],\n",
              "       [ True, False, False, False, False],\n",
              "       ...,\n",
              "       [False, False, False, False,  True],\n",
              "       [False,  True, False, False, False],\n",
              "       [False, False,  True, False, False]])"
            ]
          },
          "metadata": {},
          "execution_count": 20
        }
      ]
    },
    {
      "cell_type": "code",
      "execution_count": null,
      "metadata": {
        "id": "x9EOUrQmS8zF",
        "colab": {
          "base_uri": "https://localhost:8080/",
          "height": 1000
        },
        "outputId": "55d5a58b-59b6-4585-8496-b963238bbe3d"
      },
      "outputs": [
        {
          "output_type": "stream",
          "name": "stdout",
          "text": [
            "The accuracy for Healthy:  1.0\n",
            "The accuracy for leaf_rust:  1.0\n",
            "The accuracy for miner:  0.9994266055045872\n",
            "The accuracy for cerscospora:  1.0\n",
            "The accuracy for phoma:  0.9997133027522935\n"
          ]
        },
        {
          "output_type": "display_data",
          "data": {
            "text/plain": [
              "<Figure size 432x288 with 2 Axes>"
            ],
            "image/png": "[encoded data removed]"
          },
          "metadata": {
            "needs_background": "light"
          }
        },
        {
          "output_type": "display_data",
          "data": {
            "text/plain": [
              "<Figure size 432x288 with 2 Axes>"
            ],
            "image/png": "[encoded data removed]"
          },
          "metadata": {
            "needs_background": "light"
          }
        },
        {
          "output_type": "display_data",
          "data": {
            "text/plain": [
              "<Figure size 432x288 with 2 Axes>"
            ],
            "image/png": "[encoded data removed]"
          },
          "metadata": {
            "needs_background": "light"
          }
        },
        {
          "output_type": "display_data",
          "data": {
            "text/plain": [
              "<Figure size 432x288 with 2 Axes>"
            ],
            "image/png": "[encoded data removed]"
          },
          "metadata": {
            "needs_background": "light"
          }
        },
        {
          "output_type": "display_data",
          "data": {
            "text/plain": [
              "<Figure size 432x288 with 2 Axes>"
            ],
            "image/png": "[encoded data removed]"
          },
          "metadata": {
            "needs_background": "light"
          }
        }
      ],
      "source": [
        "plot_results(y_test, preds)"
      ],
      "id": "x9EOUrQmS8zF"
    }
  ],
  "metadata": {
    "accelerator": "GPU",
    "colab": {
      "provenance": [],
      "include_colab_link": true
    },
    "gpuClass": "standard",
    "kernelspec": {
      "display_name": "Python 3 (ipykernel)",
      "language": "python",
      "name": "python3"
    },
    "language_info": {
      "codemirror_mode": {
        "name": "ipython",
        "version": 3
      },
      "file_extension": ".py",
      "mimetype": "text/x-python",
      "name": "python",
      "nbconvert_exporter": "python",
      "pygments_lexer": "ipython3",
      "version": "3.10.7"
    }
  },
  "nbformat": 4,
  "nbformat_minor": 5
}